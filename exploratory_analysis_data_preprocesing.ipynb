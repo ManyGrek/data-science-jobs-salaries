{
 "cells": [
  {
   "cell_type": "markdown",
   "source": [
    "# Statistical analysis of salaries in data science related jobs\n",
    "\n",
    "The goal of this project is to identify the conditions that make a data analyst better paid according to the database provided by [Kaggle](https://www.kaggle.com/datasets/ruchi798/data-science-job-salaries) on a sample of data analysts in different parts of the world.\n",
    "Some of the question that guide this project are:\n",
    "\n",
    "- What is the salary a data analyst can aspire to?\n",
    "- In which countries are the best salaries offered?\n",
    "- Have salaries increased over time?\n",
    "- Does the level of experience influence the salary?\n",
    "- Does the size of the company influence the salary it can offer a data analyst?\n",
    "- What type of contract (part-time, full-time, etc.) offers the best salaries? What type of contract will be the most suitable?\n",
    "\n",
    "Part of this notebook is based in [Titanic Data Science Solutions notebook in Kaggle.](https://www.kaggle.com/code/startupsci/titanic-data-science-solutions)\n",
    "\n",
    "## Database exploration\n",
    "### Accessing the database and setting up the required libraries"
   ],
   "metadata": {
    "collapsed": false,
    "pycharm": {
     "name": "#%% md\n"
    }
   }
  },
  {
   "cell_type": "code",
   "execution_count": 3,
   "metadata": {
    "collapsed": true,
    "pycharm": {
     "name": "#%%\n"
    }
   },
   "outputs": [],
   "source": [
    "# data analysis and wrangling\n",
    "import pandas as pd\n",
    "# import numpy as np\n",
    "# import random as rnd\n",
    "\n",
    "# visualization\n",
    "# import seaborn as sns\n",
    "# import matplotlib.pyplot as plt\n",
    "# %matplotlib inline\n",
    "\n",
    "# statistics"
   ]
  },
  {
   "cell_type": "code",
   "execution_count": 4,
   "outputs": [],
   "source": [
    "df_salaries = pd.read_csv('ds_salaries.csv', index_col=0)"
   ],
   "metadata": {
    "collapsed": false,
    "pycharm": {
     "name": "#%%\n"
    }
   }
  },
  {
   "cell_type": "markdown",
   "source": [
    "### Analyze dataset features\n",
    "In the next codeblock we can see all the available features of the dataset already described in the [Kaggle page here.](https://www.kaggle.com/datasets/ruchi798/data-science-job-salaries)"
   ],
   "metadata": {
    "collapsed": false,
    "pycharm": {
     "name": "#%% md\n"
    }
   }
  },
  {
   "cell_type": "code",
   "execution_count": 9,
   "outputs": [
    {
     "name": "stdout",
     "output_type": "stream",
     "text": [
      "['work_year' 'experience_level' 'employment_type' 'job_title' 'salary'\n",
      " 'salary_currency' 'salary_in_usd' 'employee_residence' 'remote_ratio'\n",
      " 'company_location' 'company_size']\n"
     ]
    }
   ],
   "source": [
    "print(df_salaries.columns.values)"
   ],
   "metadata": {
    "collapsed": false,
    "pycharm": {
     "name": "#%%\n"
    }
   }
  },
  {
   "cell_type": "markdown",
   "source": [
    "#### Which features are categorical?\n",
    "\n",
    "These values classify the samples into sets of similar samples. Within categorical features are the values nominal, ordinal, ratio, or interval based? Among other things this helps us select the appropriate plots for visualization.\n",
    "\n",
    "- Nominal: employment_type, job_title, salary_currency, employee_residence and company_location.\n",
    "- Ordinal: experience_level and company_size.\n",
    "\n",
    "#### Which features are numerical?\n",
    "\n",
    "Which features are numerical? These values change from sample to sample. Within numerical features are the values discrete, continuous, or timeseries based? Among other things this helps us select the appropriate plots for visualization.\n",
    "\n",
    "- Continuous: salary, salary_in_usd and remote_ratio (although each one is integer data type, and remote ratio can be easily converted to a categorical statistical type of data because it only has 3 different values that represent an ordinal category).\n",
    "- Timeseries: work_year."
   ],
   "metadata": {
    "collapsed": false,
    "pycharm": {
     "name": "#%% md\n"
    }
   }
  },
  {
   "cell_type": "code",
   "execution_count": 11,
   "outputs": [
    {
     "data": {
      "text/plain": "   work_year experience_level employment_type                   job_title  \\\n0       2020               MI              FT              Data Scientist   \n1       2020               SE              FT  Machine Learning Scientist   \n2       2020               SE              FT           Big Data Engineer   \n3       2020               MI              FT        Product Data Analyst   \n4       2020               SE              FT   Machine Learning Engineer   \n\n   salary salary_currency  salary_in_usd employee_residence  remote_ratio  \\\n0   70000             EUR          79833                 DE             0   \n1  260000             USD         260000                 JP             0   \n2   85000             GBP         109024                 GB            50   \n3   20000             USD          20000                 HN             0   \n4  150000             USD         150000                 US            50   \n\n  company_location company_size  \n0               DE            L  \n1               JP            S  \n2               GB            M  \n3               HN            S  \n4               US            L  ",
      "text/html": "<div>\n<style scoped>\n    .dataframe tbody tr th:only-of-type {\n        vertical-align: middle;\n    }\n\n    .dataframe tbody tr th {\n        vertical-align: top;\n    }\n\n    .dataframe thead th {\n        text-align: right;\n    }\n</style>\n<table border=\"1\" class=\"dataframe\">\n  <thead>\n    <tr style=\"text-align: right;\">\n      <th></th>\n      <th>work_year</th>\n      <th>experience_level</th>\n      <th>employment_type</th>\n      <th>job_title</th>\n      <th>salary</th>\n      <th>salary_currency</th>\n      <th>salary_in_usd</th>\n      <th>employee_residence</th>\n      <th>remote_ratio</th>\n      <th>company_location</th>\n      <th>company_size</th>\n    </tr>\n  </thead>\n  <tbody>\n    <tr>\n      <th>0</th>\n      <td>2020</td>\n      <td>MI</td>\n      <td>FT</td>\n      <td>Data Scientist</td>\n      <td>70000</td>\n      <td>EUR</td>\n      <td>79833</td>\n      <td>DE</td>\n      <td>0</td>\n      <td>DE</td>\n      <td>L</td>\n    </tr>\n    <tr>\n      <th>1</th>\n      <td>2020</td>\n      <td>SE</td>\n      <td>FT</td>\n      <td>Machine Learning Scientist</td>\n      <td>260000</td>\n      <td>USD</td>\n      <td>260000</td>\n      <td>JP</td>\n      <td>0</td>\n      <td>JP</td>\n      <td>S</td>\n    </tr>\n    <tr>\n      <th>2</th>\n      <td>2020</td>\n      <td>SE</td>\n      <td>FT</td>\n      <td>Big Data Engineer</td>\n      <td>85000</td>\n      <td>GBP</td>\n      <td>109024</td>\n      <td>GB</td>\n      <td>50</td>\n      <td>GB</td>\n      <td>M</td>\n    </tr>\n    <tr>\n      <th>3</th>\n      <td>2020</td>\n      <td>MI</td>\n      <td>FT</td>\n      <td>Product Data Analyst</td>\n      <td>20000</td>\n      <td>USD</td>\n      <td>20000</td>\n      <td>HN</td>\n      <td>0</td>\n      <td>HN</td>\n      <td>S</td>\n    </tr>\n    <tr>\n      <th>4</th>\n      <td>2020</td>\n      <td>SE</td>\n      <td>FT</td>\n      <td>Machine Learning Engineer</td>\n      <td>150000</td>\n      <td>USD</td>\n      <td>150000</td>\n      <td>US</td>\n      <td>50</td>\n      <td>US</td>\n      <td>L</td>\n    </tr>\n  </tbody>\n</table>\n</div>"
     },
     "execution_count": 11,
     "metadata": {},
     "output_type": "execute_result"
    }
   ],
   "source": [
    "# preview of the data\n",
    "\n",
    "df_salaries.head()"
   ],
   "metadata": {
    "collapsed": false,
    "pycharm": {
     "name": "#%%\n"
    }
   }
  },
  {
   "cell_type": "markdown",
   "source": [
    "#### Extra observations\n",
    "The dataset have no missing values in any feature, which means we don't have to worry about fill empty values. We can observe that there it is 4 features that are integer data type and 7 that are string data type.\n",
    "\n",
    "We might need to convert in future all string features (categorical data) to numerical data types (numerical data)."
   ],
   "metadata": {
    "collapsed": false,
    "pycharm": {
     "name": "#%% md\n"
    }
   }
  },
  {
   "cell_type": "code",
   "execution_count": 12,
   "outputs": [
    {
     "name": "stdout",
     "output_type": "stream",
     "text": [
      "<class 'pandas.core.frame.DataFrame'>\n",
      "Int64Index: 607 entries, 0 to 606\n",
      "Data columns (total 11 columns):\n",
      " #   Column              Non-Null Count  Dtype \n",
      "---  ------              --------------  ----- \n",
      " 0   work_year           607 non-null    int64 \n",
      " 1   experience_level    607 non-null    object\n",
      " 2   employment_type     607 non-null    object\n",
      " 3   job_title           607 non-null    object\n",
      " 4   salary              607 non-null    int64 \n",
      " 5   salary_currency     607 non-null    object\n",
      " 6   salary_in_usd       607 non-null    int64 \n",
      " 7   employee_residence  607 non-null    object\n",
      " 8   remote_ratio        607 non-null    int64 \n",
      " 9   company_location    607 non-null    object\n",
      " 10  company_size        607 non-null    object\n",
      "dtypes: int64(4), object(7)\n",
      "memory usage: 56.9+ KB\n"
     ]
    }
   ],
   "source": [
    "df_salaries.info()"
   ],
   "metadata": {
    "collapsed": false,
    "pycharm": {
     "name": "#%%\n"
    }
   }
  },
  {
   "cell_type": "markdown",
   "source": [
    "### Database exploration\n",
    "#### Describe the numerical features"
   ],
   "metadata": {
    "collapsed": false,
    "pycharm": {
     "name": "#%% md\n"
    }
   }
  },
  {
   "cell_type": "code",
   "execution_count": 13,
   "outputs": [
    {
     "data": {
      "text/plain": "         work_year        salary  salary_in_usd  remote_ratio\ncount   607.000000  6.070000e+02     607.000000     607.00000\nmean   2021.405272  3.240001e+05  112297.869852      70.92257\nstd       0.692133  1.544357e+06   70957.259411      40.70913\nmin    2020.000000  4.000000e+03    2859.000000       0.00000\n25%    2021.000000  7.000000e+04   62726.000000      50.00000\n50%    2022.000000  1.150000e+05  101570.000000     100.00000\n75%    2022.000000  1.650000e+05  150000.000000     100.00000\nmax    2022.000000  3.040000e+07  600000.000000     100.00000",
      "text/html": "<div>\n<style scoped>\n    .dataframe tbody tr th:only-of-type {\n        vertical-align: middle;\n    }\n\n    .dataframe tbody tr th {\n        vertical-align: top;\n    }\n\n    .dataframe thead th {\n        text-align: right;\n    }\n</style>\n<table border=\"1\" class=\"dataframe\">\n  <thead>\n    <tr style=\"text-align: right;\">\n      <th></th>\n      <th>work_year</th>\n      <th>salary</th>\n      <th>salary_in_usd</th>\n      <th>remote_ratio</th>\n    </tr>\n  </thead>\n  <tbody>\n    <tr>\n      <th>count</th>\n      <td>607.000000</td>\n      <td>6.070000e+02</td>\n      <td>607.000000</td>\n      <td>607.00000</td>\n    </tr>\n    <tr>\n      <th>mean</th>\n      <td>2021.405272</td>\n      <td>3.240001e+05</td>\n      <td>112297.869852</td>\n      <td>70.92257</td>\n    </tr>\n    <tr>\n      <th>std</th>\n      <td>0.692133</td>\n      <td>1.544357e+06</td>\n      <td>70957.259411</td>\n      <td>40.70913</td>\n    </tr>\n    <tr>\n      <th>min</th>\n      <td>2020.000000</td>\n      <td>4.000000e+03</td>\n      <td>2859.000000</td>\n      <td>0.00000</td>\n    </tr>\n    <tr>\n      <th>25%</th>\n      <td>2021.000000</td>\n      <td>7.000000e+04</td>\n      <td>62726.000000</td>\n      <td>50.00000</td>\n    </tr>\n    <tr>\n      <th>50%</th>\n      <td>2022.000000</td>\n      <td>1.150000e+05</td>\n      <td>101570.000000</td>\n      <td>100.00000</td>\n    </tr>\n    <tr>\n      <th>75%</th>\n      <td>2022.000000</td>\n      <td>1.650000e+05</td>\n      <td>150000.000000</td>\n      <td>100.00000</td>\n    </tr>\n    <tr>\n      <th>max</th>\n      <td>2022.000000</td>\n      <td>3.040000e+07</td>\n      <td>600000.000000</td>\n      <td>100.00000</td>\n    </tr>\n  </tbody>\n</table>\n</div>"
     },
     "execution_count": 13,
     "metadata": {},
     "output_type": "execute_result"
    }
   ],
   "source": [
    "df_salaries.describe()"
   ],
   "metadata": {
    "collapsed": false,
    "pycharm": {
     "name": "#%%\n"
    }
   }
  },
  {
   "cell_type": "code",
   "execution_count": null,
   "outputs": [],
   "source": [],
   "metadata": {
    "collapsed": false,
    "pycharm": {
     "name": "#%%\n"
    }
   }
  },
  {
   "cell_type": "markdown",
   "source": [
    "#### Describe the categorical features"
   ],
   "metadata": {
    "collapsed": false,
    "pycharm": {
     "name": "#%% md\n"
    }
   }
  },
  {
   "cell_type": "code",
   "execution_count": 14,
   "outputs": [
    {
     "data": {
      "text/plain": "       experience_level employment_type       job_title salary_currency  \\\ncount               607             607             607             607   \nunique                4               4              50              17   \ntop                  SE              FT  Data Scientist             USD   \nfreq                280             588             143             398   \n\n       employee_residence company_location company_size  \ncount                 607              607          607  \nunique                 57               50            3  \ntop                    US               US            M  \nfreq                  332              355          326  ",
      "text/html": "<div>\n<style scoped>\n    .dataframe tbody tr th:only-of-type {\n        vertical-align: middle;\n    }\n\n    .dataframe tbody tr th {\n        vertical-align: top;\n    }\n\n    .dataframe thead th {\n        text-align: right;\n    }\n</style>\n<table border=\"1\" class=\"dataframe\">\n  <thead>\n    <tr style=\"text-align: right;\">\n      <th></th>\n      <th>experience_level</th>\n      <th>employment_type</th>\n      <th>job_title</th>\n      <th>salary_currency</th>\n      <th>employee_residence</th>\n      <th>company_location</th>\n      <th>company_size</th>\n    </tr>\n  </thead>\n  <tbody>\n    <tr>\n      <th>count</th>\n      <td>607</td>\n      <td>607</td>\n      <td>607</td>\n      <td>607</td>\n      <td>607</td>\n      <td>607</td>\n      <td>607</td>\n    </tr>\n    <tr>\n      <th>unique</th>\n      <td>4</td>\n      <td>4</td>\n      <td>50</td>\n      <td>17</td>\n      <td>57</td>\n      <td>50</td>\n      <td>3</td>\n    </tr>\n    <tr>\n      <th>top</th>\n      <td>SE</td>\n      <td>FT</td>\n      <td>Data Scientist</td>\n      <td>USD</td>\n      <td>US</td>\n      <td>US</td>\n      <td>M</td>\n    </tr>\n    <tr>\n      <th>freq</th>\n      <td>280</td>\n      <td>588</td>\n      <td>143</td>\n      <td>398</td>\n      <td>332</td>\n      <td>355</td>\n      <td>326</td>\n    </tr>\n  </tbody>\n</table>\n</div>"
     },
     "execution_count": 14,
     "metadata": {},
     "output_type": "execute_result"
    }
   ],
   "source": [
    "df_salaries.describe(include=['O'])"
   ],
   "metadata": {
    "collapsed": false,
    "pycharm": {
     "name": "#%%\n"
    }
   }
  },
  {
   "cell_type": "code",
   "execution_count": null,
   "outputs": [],
   "source": [],
   "metadata": {
    "collapsed": false,
    "pycharm": {
     "name": "#%%\n"
    }
   }
  }
 ],
 "metadata": {
  "kernelspec": {
   "display_name": "Python 3",
   "language": "python",
   "name": "python3"
  },
  "language_info": {
   "codemirror_mode": {
    "name": "ipython",
    "version": 2
   },
   "file_extension": ".py",
   "mimetype": "text/x-python",
   "name": "python",
   "nbconvert_exporter": "python",
   "pygments_lexer": "ipython2",
   "version": "2.7.6"
  }
 },
 "nbformat": 4,
 "nbformat_minor": 0
}